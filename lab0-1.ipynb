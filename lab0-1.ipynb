{
 "cells": [
  {
   "cell_type": "code",
   "execution_count": 1,
   "id": "8f7dc99d",
   "metadata": {
    "deletable": false,
    "editable": false,
    "jupyter": {
     "outputs_hidden": true,
     "source_hidden": true
    }
   },
   "outputs": [
    {
     "name": "stdout",
     "output_type": "stream",
     "text": [
      "\n"
     ]
    }
   ],
   "source": [
    "# Please do not change this cell because some hidden tests might depend on it.\n",
    "import os\n",
    "\n",
    "# Otter grader does not handle ! commands well, so we define and use our\n",
    "# own function to execute shell commands.\n",
    "def shell(commands, warn=True):\n",
    "    \"\"\"Executes the string `commands` as a sequence of shell commands.\n",
    "     \n",
    "       Prints the result to stdout and returns the exit status. \n",
    "       Provides a printed warning on non-zero exit status unless `warn` \n",
    "       flag is unset.\n",
    "    \"\"\"\n",
    "    file = os.popen(commands)\n",
    "    print (file.read().rstrip('\\n'))\n",
    "    exit_status = file.close()\n",
    "    if warn and exit_status != None:\n",
    "        print(f\"Completed with errors. Exit status: {exit_status}\\n\")\n",
    "    return exit_status\n",
    "\n",
    "shell(\"\"\"\n",
    "ls requirements.txt >/dev/null 2>&1\n",
    "if [ ! $? = 0 ]; then\n",
    " rm -rf .tmp\n",
    " git clone https://github.com/cs187-2021/lab0-1.git .tmp\n",
    " mv .tmp/tests ./\n",
    " mv .tmp/requirements.txt ./\n",
    " rm -rf .tmp\n",
    "fi\n",
    "pip install -q -r requirements.txt\n",
    "\"\"\")"
   ]
  },
  {
   "cell_type": "code",
   "execution_count": 2,
   "id": "542ec0d1",
   "metadata": {
    "deletable": false,
    "editable": false
   },
   "outputs": [],
   "source": [
    "# Initialize Otter\n",
    "import otter\n",
    "grader = otter.Notebook()"
   ]
  },
  {
   "cell_type": "markdown",
   "id": "c2417125",
   "metadata": {
    "tags": [
     "remove_for_latex"
    ]
   },
   "source": [
    "# CS187\n",
    "\n",
    "## Lab 0-1 – Tensors and vectorization"
   ]
  },
  {
   "cell_type": "markdown",
   "id": "ec50527e",
   "metadata": {},
   "source": [
    "Many of the data-heavy approaches to NLP are enabled by advances in parallel processing that make what were once intractable computations practical. This notebook demonstrates the issue and the `torch` technologies that apply to it, especially the \"tensor\" data type.\n",
    "\n",
    "New bits of Python used for the first time in this lab, and which you may therefore want to review, include:\n",
    "\n",
    "* `assert`\n",
    "* `globals`\n",
    "* `len`\n",
    "* `math.inf`\n",
    "* `random.choices`\n",
    "* `timeit.timeit`\n",
    "* `torch.tensor`\n",
    "* `torch.equal`\n",
    "* `torch.rand`\n",
    "* `torch.shape`\n",
    "* `torch.transpose`\n",
    "* `torch.view`\n",
    "* `torch.zeros`\n",
    "* `torch.zeros_like`"
   ]
  },
  {
   "cell_type": "code",
   "execution_count": 3,
   "id": "9f42eeb7",
   "metadata": {},
   "outputs": [
    {
     "name": "stderr",
     "output_type": "stream",
     "text": [
      "/Users/avigulati/anaconda3/lib/python3.10/site-packages/tqdm/auto.py:22: TqdmWarning: IProgress not found. Please update jupyter and ipywidgets. See https://ipywidgets.readthedocs.io/en/stable/user_install.html\n",
      "  from .autonotebook import tqdm as notebook_tqdm\n"
     ]
    }
   ],
   "source": [
    "import torch\n",
    "import random\n",
    "\n",
    "from timeit import timeit"
   ]
  },
  {
   "cell_type": "markdown",
   "id": "08749160",
   "metadata": {},
   "source": [
    "Numeric vectors can be implemented in Python in many ways. Most directly, Python provides a built-in `list` data type, which we could use to implement a vector. Here, we generate a couple of example vectors as lists each containing 1000 integers between 0 and 99."
   ]
  },
  {
   "cell_type": "code",
   "execution_count": 4,
   "id": "765216d5",
   "metadata": {},
   "outputs": [],
   "source": [
    "a1 = random.choices(range(100), k=1000)\n",
    "a2 = random.choices(range(100), k=1000)"
   ]
  },
  {
   "cell_type": "markdown",
   "id": "628ab2ae",
   "metadata": {},
   "source": [
    "# An example: dot product\n",
    "\n",
    "The dot product of two vectors $v$ and $w$ is the sum of their componentwise product, $\\sum_i v_i \\cdot w_i$, which can be calculated with a simple for-loop."
   ]
  },
  {
   "cell_type": "code",
   "execution_count": 5,
   "id": "f70c7049",
   "metadata": {},
   "outputs": [],
   "source": [
    "def dotproduct(v, w):\n",
    "    assert len(v) == len(w)\n",
    "    sum = 0\n",
    "    for i in range(len(v)):\n",
    "         sum += v[i] * w[i]\n",
    "    return sum"
   ]
  },
  {
   "cell_type": "code",
   "execution_count": 6,
   "id": "2a1db94f",
   "metadata": {},
   "outputs": [
    {
     "data": {
      "text/plain": [
       "2448945"
      ]
     },
     "execution_count": 6,
     "metadata": {},
     "output_type": "execute_result"
    }
   ],
   "source": [
    "dotproduct_result = dotproduct(a1, a2)\n",
    "dotproduct_result"
   ]
  },
  {
   "cell_type": "markdown",
   "id": "1943f625",
   "metadata": {},
   "source": [
    "We can test the efficiency of this approach to implementing vectors by computing a large dot product many times. (We use the `timeit` function that we imported from the `timeit` library above to return the time in seconds to perform 100,000 repetitions of the dot product computation.)"
   ]
  },
  {
   "cell_type": "code",
   "execution_count": 7,
   "id": "6f5e0ace",
   "metadata": {},
   "outputs": [
    {
     "name": "stdout",
     "output_type": "stream",
     "text": [
      "It took 5.82 seconds.\n"
     ]
    }
   ],
   "source": [
    "example_time = timeit('dotproduct(a1, a2)', number=100000, globals=globals())\n",
    "print(f\"It took {example_time:.3} seconds.\")"
   ]
  },
  {
   "cell_type": "markdown",
   "id": "569f44b0",
   "metadata": {},
   "source": [
    "As it turns out, performing this vector computation is quite slow -- it probably took several seconds -- because the `for` loop over the list data structure computes sequentially. Instead, we can use a data type engineered especially for such vector and array computations to improve performance. Such data types include Python arrays, `numpy` arrays, and [`torch` tensors](https://pytorch.org/docs/stable/tensors.html). The latter are especially designed for the kinds of computations found in machine learning algorithms, so we will use them throughout the course. You can read (a lot) more about tensors in [the official documentation](https://pytorch.org/docs/stable/tensors.html).\n",
    "\n",
    "We construct a couple of one-dimensional tensors for the examples above."
   ]
  },
  {
   "cell_type": "code",
   "execution_count": 8,
   "id": "ff035c48",
   "metadata": {},
   "outputs": [],
   "source": [
    "t1 = torch.tensor(a1)\n",
    "t2 = torch.tensor(a2)"
   ]
  },
  {
   "cell_type": "markdown",
   "id": "3ff7d53c",
   "metadata": {},
   "source": [
    "# Tensor properties\n",
    "\n",
    "Tensors have four characteristics that are especially useful (but potentially confusing when you first start working with them):\n",
    "\n",
    "+ Componentwise operation: Many operations on tensors work component by component instead of all at once.\n",
    "+ Broadcast: Operations can broadcast individual elements to each component of a tensor.\n",
    "+ Reshaping: Tensors can be reshaped to present the same elements in different configurations.\n",
    "+ Special operations: Tensors have methods implementing certain operations especially efficiently.\n",
    "\n",
    "We give examples of each."
   ]
  },
  {
   "cell_type": "markdown",
   "id": "0db3f849",
   "metadata": {},
   "source": [
    "## Componentwise operation\n",
    "\n",
    "Many operations on tensors work [*componentwise*](https://en.wikipedia.org/wiki/Pointwise#Componentwise_operations), that is, separately for each component of the tensor, rather than on the tensor all at once.\n",
    "\n",
    "For instance, when we add two tensors of the same shape with the `+` operator, the summation percolates down to the individual comonents. For example,"
   ]
  },
  {
   "cell_type": "code",
   "execution_count": 9,
   "id": "4d78d99c",
   "metadata": {},
   "outputs": [
    {
     "data": {
      "text/plain": [
       "tensor([5, 7, 9])"
      ]
     },
     "execution_count": 9,
     "metadata": {},
     "output_type": "execute_result"
    }
   ],
   "source": [
    "a3 = [1, 2, 3]\n",
    "a4 = [4, 5, 6]\n",
    "t3 = torch.tensor(a3)\n",
    "t4 = torch.tensor(a4)\n",
    "\n",
    "t3 + t4"
   ]
  },
  {
   "cell_type": "markdown",
   "id": "56b3881b",
   "metadata": {},
   "source": [
    "This is quite different from, say, lists, which perform a completely different operation – concatenation – when summed with the `+` operator."
   ]
  },
  {
   "cell_type": "code",
   "execution_count": 10,
   "id": "40249a37",
   "metadata": {},
   "outputs": [
    {
     "data": {
      "text/plain": [
       "[1, 2, 3, 4, 5, 6]"
      ]
     },
     "execution_count": 10,
     "metadata": {},
     "output_type": "execute_result"
    }
   ],
   "source": [
    "a3 + a4"
   ]
  },
  {
   "cell_type": "markdown",
   "id": "90283713",
   "metadata": {},
   "source": [
    "Similarly, we can compute the elementwise product of two tensors of the same shape."
   ]
  },
  {
   "cell_type": "code",
   "execution_count": 11,
   "id": "6a04e76c",
   "metadata": {},
   "outputs": [
    {
     "data": {
      "text/plain": [
       "tensor([ 4, 10, 18])"
      ]
     },
     "execution_count": 11,
     "metadata": {},
     "output_type": "execute_result"
    }
   ],
   "source": [
    "t3 * t4"
   ]
  },
  {
   "cell_type": "markdown",
   "id": "849dd4e7",
   "metadata": {},
   "source": [
    "## Broadcast\n",
    "\n",
    "Related, adding a scalar to a tensor \"broadcasts\" the scalar addition operation to each element."
   ]
  },
  {
   "cell_type": "code",
   "execution_count": 12,
   "id": "9e2376fc",
   "metadata": {},
   "outputs": [
    {
     "name": "stdout",
     "output_type": "stream",
     "text": [
      "tensor([6, 7, 8])\n",
      "tensor([6, 7, 8])\n"
     ]
    }
   ],
   "source": [
    "print(t3 + 5)\n",
    "print(5 + t3)"
   ]
  },
  {
   "cell_type": "markdown",
   "id": "8d1c1145",
   "metadata": {},
   "source": [
    "Again, compare with how lists work (or actually, don't work). Try uncommenting and running the cell below."
   ]
  },
  {
   "cell_type": "code",
   "execution_count": 13,
   "id": "7011fef1",
   "metadata": {
    "tags": [
     "raises-exception"
    ]
   },
   "outputs": [],
   "source": [
    "# a3 + 5"
   ]
  },
  {
   "cell_type": "markdown",
   "id": "3ee3d2b9",
   "metadata": {},
   "source": [
    "## Reshaping\n",
    "\n",
    "Finally, tensors can be reshaped so that their elements appear in a different configuration. The `view` method is often used to carry out the reshaping. For instance, we start with the following 3 by 4 tensor."
   ]
  },
  {
   "cell_type": "code",
   "execution_count": 14,
   "id": "f1c3183e",
   "metadata": {},
   "outputs": [],
   "source": [
    "t5 = torch.tensor([[11, 12, 13, 14],\n",
    "                   [21, 22, 23, 24],\n",
    "                   [31, 32, 33, 34]])"
   ]
  },
  {
   "cell_type": "markdown",
   "id": "6c204e69",
   "metadata": {},
   "source": [
    "We can tell that `t5` is a 3 by 4 tensor using the `shape` method."
   ]
  },
  {
   "cell_type": "code",
   "execution_count": 15,
   "id": "546b1433",
   "metadata": {},
   "outputs": [
    {
     "data": {
      "text/plain": [
       "torch.Size([3, 4])"
      ]
     },
     "execution_count": 15,
     "metadata": {},
     "output_type": "execute_result"
    }
   ],
   "source": [
    "t5.shape"
   ]
  },
  {
   "cell_type": "markdown",
   "id": "2509a3a5",
   "metadata": {},
   "source": [
    "We can view the elements as a 4 by 3 tensor, or a 2 by 2 by 3 tensor, or a 3 by 1 by 4 tensor."
   ]
  },
  {
   "cell_type": "code",
   "execution_count": 16,
   "id": "c1e297e3",
   "metadata": {},
   "outputs": [
    {
     "name": "stdout",
     "output_type": "stream",
     "text": [
      "tensor([[11, 12, 13],\n",
      "        [14, 21, 22],\n",
      "        [23, 24, 31],\n",
      "        [32, 33, 34]])\n",
      "tensor([[[11, 12, 13],\n",
      "         [14, 21, 22]],\n",
      "\n",
      "        [[23, 24, 31],\n",
      "         [32, 33, 34]]])\n",
      "tensor([[[11, 12, 13, 14]],\n",
      "\n",
      "        [[21, 22, 23, 24]],\n",
      "\n",
      "        [[31, 32, 33, 34]]])\n"
     ]
    }
   ],
   "source": [
    "print(t5.view(4, 3))\n",
    "print(t5.view(2, 2, 3))\n",
    "print(t5.view(3, 1, 4))"
   ]
  },
  {
   "cell_type": "markdown",
   "id": "4b84cefd",
   "metadata": {},
   "source": [
    "## Special operations\n",
    "\n",
    "Tensors have a large set of methods defined on them that work especially efficiently, for instance, taking the sum of the elements, or the minimum."
   ]
  },
  {
   "cell_type": "code",
   "execution_count": 17,
   "id": "062f9964",
   "metadata": {},
   "outputs": [
    {
     "data": {
      "text/plain": [
       "tensor(270)"
      ]
     },
     "execution_count": 17,
     "metadata": {},
     "output_type": "execute_result"
    }
   ],
   "source": [
    "t5.sum()"
   ]
  },
  {
   "cell_type": "code",
   "execution_count": 18,
   "id": "39cce57e",
   "metadata": {},
   "outputs": [
    {
     "data": {
      "text/plain": [
       "tensor(11)"
      ]
     },
     "execution_count": 18,
     "metadata": {},
     "output_type": "execute_result"
    }
   ],
   "source": [
    "t5.min()"
   ]
  },
  {
   "cell_type": "markdown",
   "id": "6de794a9",
   "metadata": {},
   "source": [
    "The `min` method takes the minimum over all the elements in the tensor. But we often want to take the minimum or maximum with respect to a particular dimension, returning a tensor of these optima. For example, given a two-dimensional tensor, to find the minimum for each row, we can take the `min` with respect to the second dimension. (We refer to the row dimension as `1` since dimensions are 0-indexed.) \n",
    "\n",
    "For some intuition (especially helpful as the number of dimensions gets higher and you lose the simple notion of \"rows\" and \"columns\"), think of the `.min` by dimension operation as collapsing that dimension - for example, if you take the `.min(1)` of a $4 \\times 5 \\times 6$ tensor, your output will be a $4 \\times 6$ tensor. \n",
    "\n",
    "The `min` method called in this way returns  a tensor of the various minimum values, along with the indices at which these minima occurred. We can extract the `values` if we are interested only in those. (Feel free to take a look at the `indices` part of the return value to see what that looks like. Does its value make sense?)"
   ]
  },
  {
   "cell_type": "code",
   "execution_count": 19,
   "id": "5b9c6e38",
   "metadata": {},
   "outputs": [
    {
     "data": {
      "text/plain": [
       "tensor([11, 21, 31])"
      ]
     },
     "execution_count": 19,
     "metadata": {},
     "output_type": "execute_result"
    }
   ],
   "source": [
    "t5.min(1).values"
   ]
  },
  {
   "cell_type": "markdown",
   "id": "758aeaa8",
   "metadata": {
    "deletable": false,
    "editable": false
   },
   "source": [
    "<!--\n",
    "BEGIN QUESTION\n",
    "name: max_val\n",
    "-->\n",
    "Define a function to find the maximum values for each column of a two-dimensional tensor."
   ]
  },
  {
   "cell_type": "code",
   "execution_count": 20,
   "id": "4b9f83ce",
   "metadata": {},
   "outputs": [],
   "source": [
    "# TODO -- Implement a function to return the max value of each column, stored in a 1-D tensor.\n",
    "def max_col(v):\n",
    "\n",
    "    return v.max(0).values"
   ]
  },
  {
   "cell_type": "code",
   "execution_count": 21,
   "id": "155eea4b",
   "metadata": {
    "deletable": false,
    "editable": false
   },
   "outputs": [
    {
     "data": {
      "text/html": [
       "\n",
       "    \n",
       "    \n",
       "        <p>All tests passed!</p>\n",
       "    \n",
       "    "
      ],
      "text/plain": [
       "\n",
       "    All tests passed!\n",
       "    "
      ]
     },
     "execution_count": 21,
     "metadata": {},
     "output_type": "execute_result"
    }
   ],
   "source": [
    "grader.check(\"max_val\")"
   ]
  },
  {
   "cell_type": "markdown",
   "id": "7b015da2",
   "metadata": {
    "deletable": false,
    "editable": false
   },
   "source": [
    "# Vectorized dot product\n",
    "\n",
    "<!--\n",
    "BEGIN QUESTION\n",
    "name: dotprod\n",
    "-->\n",
    "Using these tensor techniques, and noting the examples above, reimplement a version of `dotproduct` that has no `for` loops. **Hint:** Your code should be *very short*."
   ]
  },
  {
   "cell_type": "code",
   "execution_count": 22,
   "id": "eac7a967",
   "metadata": {},
   "outputs": [],
   "source": [
    "# TODO -- Implement a vectorized dot product, which should be much faster.\n",
    "def dotproduct_v(v1, v2):\n",
    "    v3 = v1*v2\n",
    "    return v3.sum()"
   ]
  },
  {
   "cell_type": "code",
   "execution_count": 23,
   "id": "51754779",
   "metadata": {
    "deletable": false,
    "editable": false
   },
   "outputs": [
    {
     "data": {
      "text/html": [
       "\n",
       "    \n",
       "    \n",
       "        <p>All tests passed!</p>\n",
       "    \n",
       "    "
      ],
      "text/plain": [
       "\n",
       "    All tests passed!\n",
       "    "
      ]
     },
     "execution_count": 23,
     "metadata": {},
     "output_type": "execute_result"
    }
   ],
   "source": [
    "grader.check(\"dotprod\")"
   ]
  },
  {
   "cell_type": "markdown",
   "id": "bb43bddf",
   "metadata": {},
   "source": [
    "This vectorized version should be *much* faster, perhaps a couple of orders of magnitude."
   ]
  },
  {
   "cell_type": "code",
   "execution_count": 24,
   "id": "a6738896",
   "metadata": {},
   "outputs": [
    {
     "name": "stdout",
     "output_type": "stream",
     "text": [
      "It took 0.325 seconds.\n"
     ]
    }
   ],
   "source": [
    "example_time_v = timeit('dotproduct_v(t1, t2)', number=100000, globals=globals())\n",
    "print(f\"It took {example_time_v:.3} seconds.\")"
   ]
  },
  {
   "cell_type": "markdown",
   "id": "3fa22b47",
   "metadata": {},
   "source": [
    "# Vectorized computations over multidimensional tensors\n",
    "\n",
    "As you saw above, tensors aren't limited to one dimension, and these same vectorization tricks apply to multidimensional tensors. In fact, because of vectorization, we can specify computations over multidimensional tensors that look like the kinds of things you've seen in linear algebra. "
   ]
  },
  {
   "cell_type": "markdown",
   "id": "75316a49",
   "metadata": {},
   "source": [
    "#### An example: all-paths shortest path\n",
    "\n",
    "<img src=\"https://github.com/nlp-course/data/raw/master/Resources/small-graph.png\" width=200 align=right />\n",
    "As a concrete example to give you some practice, consider the algorithm for computing shortest paths in a graph of $n$ nodes. We'll represent the graph as an $n \\times n$ matrix $A$ where $A_{ij}$ is the distance from node $i$ to node $j$. (Thus, this is a directed graph, and the distances needn't be symmetric.) We'll assume that the distance from a node to itself is zero. Here's an example, with distances that happen to be symmetric:"
   ]
  },
  {
   "cell_type": "code",
   "execution_count": 25,
   "id": "383da4c6",
   "metadata": {},
   "outputs": [],
   "source": [
    "from math import inf\n",
    "distances = torch.tensor(\n",
    "              [[0, 1,   2, 6],\n",
    "               [1, 0,   2, inf],\n",
    "               [2, 2,   0, 3],\n",
    "               [6, inf, 3, 0]])"
   ]
  },
  {
   "cell_type": "markdown",
   "id": "4410ba47",
   "metadata": {},
   "source": [
    "(We use `inf` for an infinite distance, that is, for nodes that are not connected with an edge.) \n",
    "\n",
    "In this graph, the distance from node 0 to node 3 is 6, but by going through node 2, we can shorten the path to 5. In general, we define [the *minplus* operation](https://en.wikipedia.org/wiki/Min-plus_matrix_multiplication) ($\\star$) on two square matrices $A$ (of shape $m \\times n$) and $B$ (of shape $n \\times p$):\n",
    "$$(A \\star B)_{ij} = \\min_k A_{ik} + B_{kj}$$\n",
    "As a special case, if $A$ and $B$ are two distance graphs over the same nodes (but perhaps with different distances), then $A \\star B$ is the graph that shows the best way to get from one node to another by traversing an edge from the first graph $A$ and then an edge from the second graph $B$.\n",
    "\n",
    "Here's an implementation of this operation `minplus` using `for` loops."
   ]
  },
  {
   "cell_type": "code",
   "execution_count": 26,
   "id": "8b96b5a7",
   "metadata": {},
   "outputs": [],
   "source": [
    "def minplus_loop(A, B):\n",
    "    (arows, acols), (brows, bcols) = A.size(), B.size()\n",
    "    assert acols == brows\n",
    "\n",
    "    R = torch.zeros(arows, bcols)\n",
    "    for i in range(arows):\n",
    "        for j in range(bcols):\n",
    "            min = torch.tensor(inf)\n",
    "            for k in range(acols):\n",
    "                if A[i,k] + B[k,j] < min:\n",
    "                    min = A[i,k] + B[k,j]\n",
    "            R[i,j] = min\n",
    "    return R"
   ]
  },
  {
   "cell_type": "markdown",
   "id": "a08f5303",
   "metadata": {},
   "source": [
    "Let's test it out on a small rectangular matrix."
   ]
  },
  {
   "cell_type": "code",
   "execution_count": 27,
   "id": "9c870115",
   "metadata": {},
   "outputs": [
    {
     "data": {
      "text/plain": [
       "tensor([[2., 5.],\n",
       "        [5., 8.]])"
      ]
     },
     "execution_count": 27,
     "metadata": {},
     "output_type": "execute_result"
    }
   ],
   "source": [
    "test = torch.tensor([[1, 2, 3], [4, 5, 6]])\n",
    "minplus_loop(test, test.transpose(0, 1))"
   ]
  },
  {
   "cell_type": "markdown",
   "id": "5a6de830",
   "metadata": {},
   "source": [
    "Using this, we can compute some better ways of getting among the nodes in the`distances` graph. For paths of length at most 2, we can compute"
   ]
  },
  {
   "cell_type": "code",
   "execution_count": 28,
   "id": "726302ce",
   "metadata": {},
   "outputs": [
    {
     "data": {
      "text/plain": [
       "tensor([[0., 1., 2., 5.],\n",
       "        [1., 0., 2., 5.],\n",
       "        [2., 2., 0., 3.],\n",
       "        [5., 5., 3., 0.]])"
      ]
     },
     "execution_count": 28,
     "metadata": {},
     "output_type": "execute_result"
    }
   ],
   "source": [
    "minplus_loop(distances, distances)"
   ]
  },
  {
   "cell_type": "markdown",
   "id": "c1bfdb29",
   "metadata": {},
   "source": [
    "Notice that in this graph, the distance from node 0 to node 3 is now only 5 (not 6), and there are also now paths between nodes 1 and 3.\n",
    "\n",
    "We can compute the minimum distance between any two nodes by repeating this minplus process until no further distance reductions are possible and the graph has reached a stable point (the so-called \"fixpoint\"). We return as a Python tuple both the fixpoint graph and the number of rounds of `minplus` that were needed to reach it."
   ]
  },
  {
   "cell_type": "code",
   "execution_count": 29,
   "id": "c0a05347",
   "metadata": {},
   "outputs": [],
   "source": [
    "def minplus_fp(X):\n",
    "    rounds = 0\n",
    "    lastY = torch.zeros_like(X)\n",
    "    Y = X\n",
    "    while not(torch.equal(Y, lastY)):\n",
    "        lastY = Y\n",
    "        Y = minplus_loop(Y, Y)\n",
    "        rounds += 1\n",
    "    return Y, rounds"
   ]
  },
  {
   "cell_type": "code",
   "execution_count": 30,
   "id": "14357ec3",
   "metadata": {},
   "outputs": [
    {
     "data": {
      "text/plain": [
       "(tensor([[0., 1., 2., 5.],\n",
       "         [1., 0., 2., 5.],\n",
       "         [2., 2., 0., 3.],\n",
       "         [5., 5., 3., 0.]]),\n",
       " 2)"
      ]
     },
     "execution_count": 30,
     "metadata": {},
     "output_type": "execute_result"
    }
   ],
   "source": [
    "minplus_fp(distances)"
   ]
  },
  {
   "cell_type": "markdown",
   "id": "fada5784",
   "metadata": {},
   "source": [
    "It turns out that after just the two rounds, the fixpoint is reached.\n",
    "\n",
    "> **Digression:** The complexity of `minplus` as implemented is $O(n^3)$, and the fixpoint computation may need up to $\\log n$ calls to `minplus` to converge, so the overall complexity is $O(n^3 \\log n)$. More efficient algorithms are known, especially the Floyd-Warshall algorithm for the all-paths versions and Dijkstra's algorithm for the single-source version. But algorithmic efficiency is not our main aim here.\n",
    "\n",
    "Let's try a bigger example, a graph with 10 nodes."
   ]
  },
  {
   "cell_type": "code",
   "execution_count": 31,
   "id": "6aad24e2",
   "metadata": {},
   "outputs": [
    {
     "data": {
      "text/plain": [
       "tensor([[0.0000, 0.2823, 0.2189, 0.5530, 0.7078, 0.2343, 0.0720, 0.9531, 0.0462,\n",
       "         0.6583],\n",
       "        [0.3307, 0.0000, 0.0625, 0.2841, 0.9380, 0.6206, 0.9998, 0.8770, 0.9344,\n",
       "         0.2412],\n",
       "        [0.6916, 0.9589, 0.0000, 0.5258, 0.1778, 0.8414, 0.8171, 0.1844, 0.7555,\n",
       "         0.0046],\n",
       "        [0.2957, 0.1448, 0.4210, 0.0000, 0.5335, 0.1003, 0.7316, 0.8153, 0.5395,\n",
       "         0.8833],\n",
       "        [0.0358, 0.5847, 0.3669, 0.3010, 0.0000, 0.6954, 0.2071, 0.3476, 0.9345,\n",
       "         0.3359],\n",
       "        [0.1365, 0.5523, 0.6070, 0.2167, 0.6987, 0.0000, 0.4462, 0.0325, 0.9166,\n",
       "         0.5021],\n",
       "        [0.0938, 0.1725, 0.2142, 0.5597, 0.2915, 0.2895, 0.0000, 0.4457, 0.4941,\n",
       "         0.6786],\n",
       "        [0.8181, 0.7683, 0.0870, 0.7663, 0.2540, 0.0708, 0.4176, 0.0000, 0.9428,\n",
       "         0.4258],\n",
       "        [0.4159, 0.8616, 0.6816, 0.3058, 0.3167, 0.7258, 0.1127, 0.4610, 0.0000,\n",
       "         0.3048],\n",
       "        [0.4729, 0.3518, 0.0577, 0.8163, 0.0945, 0.6883, 0.4957, 0.7120, 0.4588,\n",
       "         0.0000]])"
      ]
     },
     "execution_count": 31,
     "metadata": {},
     "output_type": "execute_result"
    }
   ],
   "source": [
    "def random_square_tensor(size):\n",
    "    X = torch.rand(size, size)\n",
    "    for i in range(size):\n",
    "        X[i, i] = 0 \n",
    "    return X\n",
    "\n",
    "X = random_square_tensor(10)\n",
    "X"
   ]
  },
  {
   "cell_type": "code",
   "execution_count": 32,
   "id": "24dbcb5f",
   "metadata": {},
   "outputs": [
    {
     "data": {
      "text/plain": [
       "(tensor([[0.0000, 0.2445, 0.2189, 0.3521, 0.3179, 0.2343, 0.0720, 0.2668, 0.0462,\n",
       "          0.2234],\n",
       "         [0.1974, 0.0000, 0.0625, 0.2841, 0.1616, 0.3177, 0.2694, 0.2469, 0.2436,\n",
       "          0.0671],\n",
       "         [0.1348, 0.3563, 0.0000, 0.4001, 0.0990, 0.2551, 0.2069, 0.1844, 0.1811,\n",
       "          0.0046],\n",
       "         [0.2369, 0.1448, 0.2073, 0.0000, 0.3064, 0.1003, 0.3089, 0.1328, 0.2831,\n",
       "          0.2119],\n",
       "         [0.0358, 0.2803, 0.2547, 0.3010, 0.0000, 0.2701, 0.1078, 0.3026, 0.0820,\n",
       "          0.2592],\n",
       "         [0.1365, 0.3615, 0.1195, 0.2167, 0.2186, 0.0000, 0.2086, 0.0325, 0.1827,\n",
       "          0.1241],\n",
       "         [0.0938, 0.1725, 0.2142, 0.4459, 0.2915, 0.2895, 0.0000, 0.3220, 0.1400,\n",
       "          0.2187],\n",
       "         [0.2073, 0.4323, 0.0870, 0.2875, 0.1861, 0.0708, 0.2793, 0.0000, 0.2535,\n",
       "          0.0916],\n",
       "         [0.2065, 0.2852, 0.3268, 0.3058, 0.3167, 0.4022, 0.1127, 0.4347, 0.0000,\n",
       "          0.3048],\n",
       "         [0.1303, 0.3518, 0.0577, 0.3955, 0.0945, 0.3129, 0.2023, 0.2421, 0.1765,\n",
       "          0.0000]]),\n",
       " 4)"
      ]
     },
     "execution_count": 32,
     "metadata": {},
     "output_type": "execute_result"
    }
   ],
   "source": [
    "minplus_fp(X)"
   ]
  },
  {
   "cell_type": "markdown",
   "id": "df17feca",
   "metadata": {},
   "source": [
    "Now let's talk about the \"loop\"-y implementation of the `minplus` function. If we're a little cleverer, we can use list comprehensions to hide the computation of the minimum, but we're still doing the whole computation sequentially."
   ]
  },
  {
   "cell_type": "code",
   "execution_count": 33,
   "id": "374270b0",
   "metadata": {},
   "outputs": [
    {
     "data": {
      "text/plain": [
       "tensor([[2., 5.],\n",
       "        [5., 8.]])"
      ]
     },
     "execution_count": 33,
     "metadata": {},
     "output_type": "execute_result"
    }
   ],
   "source": [
    "def minplus_loop2(A, B):\n",
    "    (arows, acols), (brows, bcols) = A.size(), B.size()\n",
    "    assert acols == brows\n",
    "\n",
    "    R = torch.zeros(arows, bcols)\n",
    "    assert acols == brows\n",
    "    for i in range(arows):\n",
    "        for j in range(bcols):\n",
    "            R[i,j] = min([A[i,k] + B[k,j] for k in range(acols)])\n",
    "    return R\n",
    "\n",
    "minplus_loop2(test, test.transpose(0,1))"
   ]
  },
  {
   "cell_type": "markdown",
   "id": "b12c21da",
   "metadata": {},
   "source": [
    "The `torch`-y way to perform this computation is to rely on vectorized computations. Doing so is a bit tricky however. We need to reshape the matrices a bit. We start by turning the two-dimensional $A$ matrix from a $m \\times n$ matrix (rows by columns, which may differ in the general case) into a three-dimensional $m \\times 1 \\times n$ matrix. Here's the result of that operation on the $4 \\times 4$ `distances` matrix, using [the torch `view` method](https://pytorch.org/docs/stable/tensor_view.html). We'll refer to the reshaped matrix below as the $A$ matrix henceforth. It will now be a tensor with 4 elements, each of which has 1 element, each of which has 4 elements (that are scalars)."
   ]
  },
  {
   "cell_type": "code",
   "execution_count": 34,
   "id": "0de09271",
   "metadata": {},
   "outputs": [
    {
     "data": {
      "text/plain": [
       "tensor([[[0., 1., 2., 6.]],\n",
       "\n",
       "        [[1., 0., 2., inf]],\n",
       "\n",
       "        [[2., 2., 0., 3.]],\n",
       "\n",
       "        [[6., inf, 3., 0.]]])"
      ]
     },
     "execution_count": 34,
     "metadata": {},
     "output_type": "execute_result"
    }
   ],
   "source": [
    "A = distances.view(4, 1, 4)\n",
    "A"
   ]
  },
  {
   "cell_type": "markdown",
   "id": "a1865c85",
   "metadata": {},
   "source": [
    "Now each row in the matrix contains a single element, a vector that corresponds to the column in the original. We'll do a similar operation on $B$ of shape $n \\times p$ (again, the `distances` matrix in our example), but this time reshaping the matrix to be $1 \\times p \\times n$. We'll refer to the reshaped matrix below as $B$. It will now be a tensor with just 1 element, and that element contains 4 elements, each of which contains 4 elements."
   ]
  },
  {
   "cell_type": "code",
   "execution_count": 35,
   "id": "e3335549",
   "metadata": {},
   "outputs": [
    {
     "data": {
      "text/plain": [
       "tensor([[[0., 1., 2., 6.],\n",
       "         [1., 0., 2., inf],\n",
       "         [2., 2., 0., 3.],\n",
       "         [6., inf, 3., 0.]]])"
      ]
     },
     "execution_count": 35,
     "metadata": {},
     "output_type": "execute_result"
    }
   ],
   "source": [
    "B = distances.view(1, 4, 4)\n",
    "B"
   ]
  },
  {
   "cell_type": "markdown",
   "id": "42b56402",
   "metadata": {},
   "source": [
    "Now if we add these two matrices componentwise, what do we get? Each of the four 1 $\\times$ 4 elements in $A$ corresponds to the same single 4 $\\times$ 4 element in $B$, so they'll be added componentwise; that single element in $B$ will be \"broadcast\" to each of the rows in $A$. Thus, the first element in $A$ (`[[0., 1., 2., 6.]]` in the example) is to be added to the single element in $B$ (`[[0., 1., 2., 6.], [1., 0., 2., inf], [2., 2., 0., 3.], [5., inf, 3., 0.]]` in the example). How does this work? Going one more level in, we now have that the single 4-element element `[0., 1., 2., 6.]` in $A$ corresponds to (and will be broadcast to) each of the four 4-element elements in the single element in $B$ (the first of which is also `[0., 1., 2., 6.]`). Now, we've reached a set of elements that are all the same size as the element to be broadcast, so they are added elementwise, yielding `[0., 2., 4., 12.]` as the first summed 4-element element. The same thing happens for each of the other three elements in the reshaped $B$ matrix element. Zooming out one step, we repeat this procedure for each of the other three 1 $\\times$ 4 elements of $A$, broadcasting them onto the single 4 $\\times$ 4 element of $B$. When all is said and done, we'll have an $m \\times p \\times n$ matrix. Each outermost element of the summed matrix corresponds to a broadcast of a 1 $\\times$ 4 element of $A$ onto the 4 $\\times$ 4 element of $B$.\n",
    "\n",
    "As another way to understand this process, we want to compute the elementwise sum of a matrix $A$ of size 4 $\\times$ 1 $\\times$ 4 with another matrix $B$ of size 1 $\\times$ 4 $\\times$ 4. If both matrices were of size 4 $\\times$ 4 $\\times$ 4, there would be no problem. However, the first dimension of $A$ is of size 4 whereas the first dimension of $B$ is of size 1. Therefore, we repeat $B$ 4 times along the first dimension, expanding it into a matrix of size 4 $\\times$ 4 $\\times$ 4. Now the first dimension works out, but the second dimension of $A$ is of size 1 whereas the second dimension of $B$ is of size 4, so we also need to repeat $A$ 4 times along the second dimension, expanding it into a matrix of 4 $\\times$ 4 $\\times$ 4. Now both $A$ and $B$ have been expanded into size 4 $\\times$ 4 $\\times$ 4, and we can directly compute their elementwise sum. This hidden expanding operation is exactly the broadcasting we've referred to above."
   ]
  },
  {
   "cell_type": "code",
   "execution_count": 36,
   "id": "d4c57eef",
   "metadata": {},
   "outputs": [
    {
     "data": {
      "text/plain": [
       "tensor([[[ 0.,  2.,  4., 12.],\n",
       "         [ 1.,  1.,  4., inf],\n",
       "         [ 2.,  3.,  2.,  9.],\n",
       "         [ 6., inf,  5.,  6.]],\n",
       "\n",
       "        [[ 1.,  1.,  4., inf],\n",
       "         [ 2.,  0.,  4., inf],\n",
       "         [ 3.,  2.,  2., inf],\n",
       "         [ 7., inf,  5., inf]],\n",
       "\n",
       "        [[ 2.,  3.,  2.,  9.],\n",
       "         [ 3.,  2.,  2., inf],\n",
       "         [ 4.,  4.,  0.,  6.],\n",
       "         [ 8., inf,  3.,  3.]],\n",
       "\n",
       "        [[ 6., inf,  5.,  6.],\n",
       "         [ 7., inf,  5., inf],\n",
       "         [ 8., inf,  3.,  3.],\n",
       "         [12., inf,  6.,  0.]]])"
      ]
     },
     "execution_count": 36,
     "metadata": {},
     "output_type": "execute_result"
    }
   ],
   "source": [
    "summed = distances.view(4, 1, 4) + distances.view(1, 4, 4)\n",
    "summed"
   ]
  },
  {
   "cell_type": "markdown",
   "id": "61870c71",
   "metadata": {},
   "source": [
    "How does this matrix translate to the $A_{ik} + B_{kj}$ additions we did before? To illustrate by example (indexing starting from 0), let's think about $(A \\star B)_{1, 2} = \\min_k A_{1, k} + B_{k, 2}$, where $A$ and $B$ now refer to the original 4 $\\times$ 4 `distances` matrix that we started with. The $A_{1, k}$s would be found in the second element of `summed`, which is where we broadcasted the second (index 1) row of $A$. Since this matrix is symmetric, the $B_{k, 2}$'s would be equivalent to the $B_{2, k}$'s, which would be found in the second row of each element of `summed`. Taking these two pieces of information together, we then look at the second row of the second element of `summed`. Indeed, $A_{1, 0} + B_{0, 2} = A_{1, 0} + B_{2, 0}$ would be the first element in the third row of the second element of `summed`, and this is true for each $k$. This tells us that to find our `minplus` result, we just need to find the minimum of each row of every element of `summed` (using the `min` method), and there are $4 \\cdot 4$ such rows. Note that this solution only works for symmetric matrices - for non-symmetric matrices, you'll need to transpose `distances` before you reshape it into a $1 \\times 4 \\times 4$ tensor."
   ]
  },
  {
   "cell_type": "markdown",
   "id": "94eaa5a5",
   "metadata": {
    "deletable": false,
    "editable": false
   },
   "source": [
    "<!--\n",
    "BEGIN QUESTION\n",
    "name: minplus_v_example\n",
    "-->\n",
    "Calculate the result of the `minplus` by performing appropriate operations on `summed` to yield a tensor that should be identical to the `minplus_loop(distances, distances)` example above."
   ]
  },
  {
   "cell_type": "code",
   "execution_count": 50,
   "id": "6ebb344c",
   "metadata": {},
   "outputs": [
    {
     "data": {
      "text/plain": [
       "tensor([[0., 1., 2., 5.],\n",
       "        [1., 0., 2., 5.],\n",
       "        [2., 2., 0., 3.],\n",
       "        [5., 5., 3., 0.]])"
      ]
     },
     "execution_count": 50,
     "metadata": {},
     "output_type": "execute_result"
    }
   ],
   "source": [
    "#TODO\n",
    "result = summed.min(2)\n",
    "result = result.values\n",
    "result"
   ]
  },
  {
   "cell_type": "code",
   "execution_count": 38,
   "id": "8cb45b38",
   "metadata": {
    "deletable": false,
    "editable": false
   },
   "outputs": [
    {
     "data": {
      "text/html": [
       "\n",
       "    \n",
       "    \n",
       "        <p>All tests passed!</p>\n",
       "    \n",
       "    "
      ],
      "text/plain": [
       "\n",
       "    All tests passed!\n",
       "    "
      ]
     },
     "execution_count": 38,
     "metadata": {},
     "output_type": "execute_result"
    }
   ],
   "source": [
    "grader.check(\"minplus_v_example\")"
   ]
  },
  {
   "cell_type": "markdown",
   "id": "8d4b8d5d",
   "metadata": {
    "deletable": false,
    "editable": false
   },
   "source": [
    "Now that you've seen an example of how the matrices can be reshaped and operated on to implement the `minplus` operation, write a function `minplus_v` (a \"vectorized\" version of `minplus_loop`) that computes the minplus of two rectangular matrices without using any looping constructs.\n",
    "<!--\n",
    "BEGIN QUESTION\n",
    "name: minplus_v\n",
    "-->"
   ]
  },
  {
   "cell_type": "code",
   "execution_count": 8,
   "id": "c7536baa",
   "metadata": {},
   "outputs": [],
   "source": [
    "#TODO\n",
    "def minplus_v(A, B):\n",
    "    m = A.size()[0]\n",
    "    n = A.size()[1]\n",
    "    \n",
    "    n = B.size()[0]\n",
    "    p = B.size()[1]\n",
    "    \n",
    "    A = A.view(m,1,n)\n",
    "    B = B.view(1,p,n)\n",
    "    \n",
    "    summed = A+B\n",
    "    \n",
    "    result = summed.min(2)\n",
    "    return result.values"
   ]
  },
  {
   "cell_type": "code",
   "execution_count": 7,
   "id": "6e12bab6",
   "metadata": {
    "deletable": false,
    "editable": false
   },
   "outputs": [
    {
     "data": {
      "text/html": [
       "\n",
       "    \n",
       "    \n",
       "        <p>0 of 1 tests passed</p>\n",
       "        \n",
       "        \n",
       "        <p> <strong>Tests failed: </strong>\n",
       "            <ul>\n",
       "            \n",
       "                <li> \n",
       "    <p><strong style='color: red;'>tests/minplus_v.py</strong></p>\n",
       "    <p><strong>Test code:</strong><pre><div class=\"highlight\" style=\"background: #f8f8f8\"><pre style=\"line-height: 125%;\"><span></span><span style=\"color: #000080; font-weight: bold\">&gt;&gt;&gt; </span>torch<span style=\"color: #666666\">.</span>equal(minplus_v(distances, distances), minplus_loop(distances,distances))\n",
       "<span style=\"color: #717171\">True</span>\n",
       "</pre></div>\n",
       "</pre></p>\n",
       "    <p><strong>Test result:</strong><pre>Trying:\n",
       "    torch.equal(minplus_v(distances, distances), minplus_loop(distances,distances))\n",
       "Expecting:\n",
       "    True\n",
       "**********************************************************************\n",
       "Line 1, in tests/minplus_v.py 0\n",
       "Failed example:\n",
       "    torch.equal(minplus_v(distances, distances), minplus_loop(distances,distances))\n",
       "Exception raised:\n",
       "    Traceback (most recent call last):\n",
       "      File \"/Users/avigulati/anaconda3/lib/python3.10/doctest.py\", line 1350, in __run\n",
       "        exec(compile(example.source, filename, \"single\",\n",
       "      File \"<doctest tests/minplus_v.py 0[0]>\", line 1, in <module>\n",
       "        torch.equal(minplus_v(distances, distances), minplus_loop(distances,distances))\n",
       "    NameError: name 'distances' is not defined\n",
       "</pre></p>\n",
       "     </li>\n",
       "            \n",
       "            </ul>\n",
       "        \n",
       "    \n",
       "    "
      ],
      "text/plain": [
       "\n",
       "    \n",
       "    0 of 1 tests passed\n",
       "    \n",
       "    \n",
       "    Tests failed:\n",
       "    \n",
       "           tests/minplus_v.py\n",
       "\n",
       "Test result:\n",
       "Trying:\n",
       "    torch.equal(minplus_v(distances, distances), minplus_loop(distances,distances))\n",
       "Expecting:\n",
       "    True\n",
       "**********************************************************************\n",
       "Line 1, in tests/minplus_v.py 0\n",
       "Failed example:\n",
       "    torch.equal(minplus_v(distances, distances), minplus_loop(distances,distances))\n",
       "Exception raised:\n",
       "    Traceback (most recent call last):\n",
       "      File \"/Users/avigulati/anaconda3/lib/python3.10/doctest.py\", line 1350, in __run\n",
       "        exec(compile(example.source, filename, \"single\",\n",
       "      File \"<doctest tests/minplus_v.py 0[0]>\", line 1, in <module>\n",
       "        torch.equal(minplus_v(distances, distances), minplus_loop(distances,distances))\n",
       "    NameError: name 'distances' is not defined\n",
       "\n",
       "    \n",
       "    \n",
       "    \n",
       "    "
      ]
     },
     "execution_count": 7,
     "metadata": {},
     "output_type": "execute_result"
    }
   ],
   "source": [
    "grader.check(\"minplus_v\")"
   ]
  },
  {
   "cell_type": "code",
   "execution_count": 9,
   "id": "316125de",
   "metadata": {},
   "outputs": [
    {
     "ename": "IndexError",
     "evalue": "tuple index out of range",
     "output_type": "error",
     "traceback": [
      "\u001b[0;31m---------------------------------------------------------------------------\u001b[0m",
      "\u001b[0;31mIndexError\u001b[0m                                Traceback (most recent call last)",
      "Cell \u001b[0;32mIn[9], line 3\u001b[0m\n\u001b[1;32m      1\u001b[0m firsttensor \u001b[38;5;241m=\u001b[39m torch\u001b[38;5;241m.\u001b[39mtensor([\u001b[38;5;241m2\u001b[39m, \u001b[38;5;241m3\u001b[39m])\n\u001b[1;32m      2\u001b[0m secondtensor \u001b[38;5;241m=\u001b[39m torch\u001b[38;5;241m.\u001b[39mtensor([\u001b[38;5;241m2\u001b[39m,\u001b[38;5;241m3\u001b[39m])\n\u001b[0;32m----> 3\u001b[0m \u001b[43mminplus_v\u001b[49m\u001b[43m(\u001b[49m\u001b[43mfirsttensor\u001b[49m\u001b[43m,\u001b[49m\u001b[43m \u001b[49m\u001b[43msecondtensor\u001b[49m\u001b[43m)\u001b[49m\n",
      "Cell \u001b[0;32mIn[8], line 4\u001b[0m, in \u001b[0;36mminplus_v\u001b[0;34m(A, B)\u001b[0m\n\u001b[1;32m      2\u001b[0m \u001b[38;5;28;01mdef\u001b[39;00m \u001b[38;5;21mminplus_v\u001b[39m(A, B):\n\u001b[1;32m      3\u001b[0m     m \u001b[38;5;241m=\u001b[39m A\u001b[38;5;241m.\u001b[39msize()[\u001b[38;5;241m0\u001b[39m]\n\u001b[0;32m----> 4\u001b[0m     n \u001b[38;5;241m=\u001b[39m \u001b[43mA\u001b[49m\u001b[38;5;241;43m.\u001b[39;49m\u001b[43msize\u001b[49m\u001b[43m(\u001b[49m\u001b[43m)\u001b[49m\u001b[43m[\u001b[49m\u001b[38;5;241;43m1\u001b[39;49m\u001b[43m]\u001b[49m\n\u001b[1;32m      6\u001b[0m     n \u001b[38;5;241m=\u001b[39m B\u001b[38;5;241m.\u001b[39msize()[\u001b[38;5;241m0\u001b[39m]\n\u001b[1;32m      7\u001b[0m     p \u001b[38;5;241m=\u001b[39m B\u001b[38;5;241m.\u001b[39msize()[\u001b[38;5;241m1\u001b[39m]\n",
      "\u001b[0;31mIndexError\u001b[0m: tuple index out of range"
     ]
    }
   ],
   "source": [
    "firsttensor = torch.tensor([2,3])\n",
    "secondtensor = torch.tensor([2,3])\n",
    "minplus_v(firsttensor, secondtensor)"
   ]
  },
  {
   "cell_type": "markdown",
   "id": "4c286b35",
   "metadata": {},
   "source": [
    "Finally, we'll use your vectorized `minplus_v` to implement a vectorized fixpoint calculation, and test the relative speeds."
   ]
  },
  {
   "cell_type": "code",
   "execution_count": 41,
   "id": "15133ad0",
   "metadata": {},
   "outputs": [],
   "source": [
    "def minplus_vfp(X):\n",
    "    rounds = 0\n",
    "    lastY = torch.zeros_like(X)\n",
    "    Y = X\n",
    "    while not(torch.equal(Y, lastY)):\n",
    "        lastY = Y\n",
    "        Y = minplus_v(Y, Y)\n",
    "        rounds += 1\n",
    "    return Y, rounds"
   ]
  },
  {
   "cell_type": "code",
   "execution_count": 42,
   "id": "eee5f3e0",
   "metadata": {},
   "outputs": [
    {
     "data": {
      "text/plain": [
       "(tensor([[0., 1., 2., 5.],\n",
       "         [1., 0., 2., 5.],\n",
       "         [2., 2., 0., 3.],\n",
       "         [5., 5., 3., 0.]]),\n",
       " 2)"
      ]
     },
     "execution_count": 42,
     "metadata": {},
     "output_type": "execute_result"
    }
   ],
   "source": [
    "minplus_vfp(distances)"
   ]
  },
  {
   "cell_type": "code",
   "execution_count": 43,
   "id": "1b55e1db",
   "metadata": {},
   "outputs": [
    {
     "data": {
      "text/plain": [
       "2.9444769169999994"
      ]
     },
     "execution_count": 43,
     "metadata": {},
     "output_type": "execute_result"
    }
   ],
   "source": [
    "example = random_square_tensor(20)\n",
    "\n",
    "timeit('minplus_fp(example)', number=10, globals=globals())"
   ]
  },
  {
   "cell_type": "code",
   "execution_count": 44,
   "id": "7e8c6f66",
   "metadata": {},
   "outputs": [
    {
     "data": {
      "text/plain": [
       "0.004964042000001001"
      ]
     },
     "execution_count": 44,
     "metadata": {},
     "output_type": "execute_result"
    }
   ],
   "source": [
    "timeit('minplus_vfp(example)', number=10, globals=globals())"
   ]
  },
  {
   "cell_type": "markdown",
   "id": "ce406278",
   "metadata": {},
   "source": [
    "If you've implemented `minplus_v` correctly, the efficiency difference should be striking. This kind of engineered improvement is the difference between a computation taking a day and one taking a minute."
   ]
  },
  {
   "cell_type": "markdown",
   "id": "a029418b",
   "metadata": {},
   "source": [
    "# Submission Instructions\n",
    "\n",
    "This lab should be submitted to Gradescope at <http://go.cs187.info/lab0-1-submit>, which will be made available some time before the due date.\n",
    "\n",
    "Make sure that you have passed all public tests by running `grader.check_all()` below before submitting. Note that there are hidden tests on Gradescope, the results of which will be revealed after the submission deadline."
   ]
  },
  {
   "cell_type": "markdown",
   "id": "4dc7e960",
   "metadata": {},
   "source": [
    "# End of lab 0-1"
   ]
  },
  {
   "cell_type": "markdown",
   "id": "914acdbe",
   "metadata": {
    "deletable": false,
    "editable": false
   },
   "source": [
    "---\n",
    "\n",
    "To double-check your work, the cell below will rerun all of the autograder tests."
   ]
  },
  {
   "cell_type": "code",
   "execution_count": 45,
   "id": "0157c13d",
   "metadata": {
    "deletable": false,
    "editable": false
   },
   "outputs": [
    {
     "data": {
      "text/html": [
       "<p><strong>dotprod:</strong></p>\n",
       "\n",
       "    \n",
       "    \n",
       "        <p>All tests passed!</p>\n",
       "    \n",
       "    \n",
       "\n",
       "<p><strong>max_val:</strong></p>\n",
       "\n",
       "    \n",
       "    \n",
       "        <p>All tests passed!</p>\n",
       "    \n",
       "    \n",
       "\n",
       "<p><strong>minplus_v:</strong></p>\n",
       "\n",
       "    \n",
       "    \n",
       "        <p>All tests passed!</p>\n",
       "    \n",
       "    \n",
       "\n",
       "<p><strong>minplus_v_example:</strong></p>\n",
       "\n",
       "    \n",
       "    \n",
       "        <p>All tests passed!</p>\n",
       "    \n",
       "    \n",
       "\n"
      ],
      "text/plain": [
       "dotprod:\n",
       "\n",
       "    All tests passed!\n",
       "    \n",
       "\n",
       "max_val:\n",
       "\n",
       "    All tests passed!\n",
       "    \n",
       "\n",
       "minplus_v:\n",
       "\n",
       "    All tests passed!\n",
       "    \n",
       "\n",
       "minplus_v_example:\n",
       "\n",
       "    All tests passed!\n",
       "    \n"
      ]
     },
     "execution_count": 45,
     "metadata": {},
     "output_type": "execute_result"
    }
   ],
   "source": [
    "grader.check_all()"
   ]
  }
 ],
 "metadata": {
  "celltoolbar": "Tags",
  "kernelspec": {
   "display_name": "Python 3 (ipykernel)",
   "language": "python",
   "name": "python3"
  },
  "language_info": {
   "codemirror_mode": {
    "name": "ipython",
    "version": 3
   },
   "file_extension": ".py",
   "mimetype": "text/x-python",
   "name": "python",
   "nbconvert_exporter": "python",
   "pygments_lexer": "ipython3",
   "version": "3.10.9"
  },
  "title": "CS187 Lab 0-1: Tensors and vectorization"
 },
 "nbformat": 4,
 "nbformat_minor": 5
}
